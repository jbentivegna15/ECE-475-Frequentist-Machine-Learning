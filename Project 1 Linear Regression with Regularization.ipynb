{
 "cells": [
  {
   "cell_type": "markdown",
   "metadata": {},
   "source": [
    "# Project 1 Linear Regression with Regularization\n",
    "## Joseph Bentivegna\n",
    "\n",
    "- Part 1: Closed form linear regression\n",
    "- Part 2: Closed form linear regression with ridge regression\n",
    "- Part 3: Sklearn implementation of linear regression with lasso regression\n",
    "\n",
    "Dataset from: http://mlr.cs.umass.edu/ml/datasets/Auto+MPG"
   ]
  },
  {
   "cell_type": "code",
   "execution_count": 1,
   "metadata": {
    "collapsed": true
   },
   "outputs": [],
   "source": [
    "# import libraries\n",
    "import pandas as pd\n",
    "import numpy as np\n",
    "import matplotlib.pyplot as plt\n",
    "from itertools import cycle\n",
    "from sklearn import linear_model\n",
    "from sklearn.preprocessing import OneHotEncoder\n",
    "from sklearn.preprocessing import StandardScaler"
   ]
  },
  {
   "cell_type": "code",
   "execution_count": 2,
   "metadata": {},
   "outputs": [
    {
     "data": {
      "text/html": [
       "<div>\n",
       "<style>\n",
       "    .dataframe thead tr:only-child th {\n",
       "        text-align: right;\n",
       "    }\n",
       "\n",
       "    .dataframe thead th {\n",
       "        text-align: left;\n",
       "    }\n",
       "\n",
       "    .dataframe tbody tr th {\n",
       "        vertical-align: top;\n",
       "    }\n",
       "</style>\n",
       "<table border=\"1\" class=\"dataframe\">\n",
       "  <thead>\n",
       "    <tr style=\"text-align: right;\">\n",
       "      <th></th>\n",
       "      <th>MPG</th>\n",
       "      <th>Cylinders</th>\n",
       "      <th>Displacement</th>\n",
       "      <th>Horsepower</th>\n",
       "      <th>Weight</th>\n",
       "      <th>Acceleration</th>\n",
       "      <th>Model Year</th>\n",
       "      <th>Origin</th>\n",
       "    </tr>\n",
       "  </thead>\n",
       "  <tbody>\n",
       "    <tr>\n",
       "      <th>0</th>\n",
       "      <td>18.0</td>\n",
       "      <td>8</td>\n",
       "      <td>307.0</td>\n",
       "      <td>130.0</td>\n",
       "      <td>3504</td>\n",
       "      <td>12.0</td>\n",
       "      <td>70</td>\n",
       "      <td>1</td>\n",
       "    </tr>\n",
       "    <tr>\n",
       "      <th>1</th>\n",
       "      <td>15.0</td>\n",
       "      <td>8</td>\n",
       "      <td>350.0</td>\n",
       "      <td>165.0</td>\n",
       "      <td>3693</td>\n",
       "      <td>11.5</td>\n",
       "      <td>70</td>\n",
       "      <td>1</td>\n",
       "    </tr>\n",
       "    <tr>\n",
       "      <th>2</th>\n",
       "      <td>18.0</td>\n",
       "      <td>8</td>\n",
       "      <td>318.0</td>\n",
       "      <td>150.0</td>\n",
       "      <td>3436</td>\n",
       "      <td>11.0</td>\n",
       "      <td>70</td>\n",
       "      <td>1</td>\n",
       "    </tr>\n",
       "    <tr>\n",
       "      <th>3</th>\n",
       "      <td>16.0</td>\n",
       "      <td>8</td>\n",
       "      <td>304.0</td>\n",
       "      <td>150.0</td>\n",
       "      <td>3433</td>\n",
       "      <td>12.0</td>\n",
       "      <td>70</td>\n",
       "      <td>1</td>\n",
       "    </tr>\n",
       "    <tr>\n",
       "      <th>4</th>\n",
       "      <td>17.0</td>\n",
       "      <td>8</td>\n",
       "      <td>302.0</td>\n",
       "      <td>140.0</td>\n",
       "      <td>3449</td>\n",
       "      <td>10.5</td>\n",
       "      <td>70</td>\n",
       "      <td>1</td>\n",
       "    </tr>\n",
       "  </tbody>\n",
       "</table>\n",
       "</div>"
      ],
      "text/plain": [
       "    MPG  Cylinders  Displacement Horsepower  Weight  Acceleration  Model Year  \\\n",
       "0  18.0          8         307.0      130.0    3504          12.0          70   \n",
       "1  15.0          8         350.0      165.0    3693          11.5          70   \n",
       "2  18.0          8         318.0      150.0    3436          11.0          70   \n",
       "3  16.0          8         304.0      150.0    3433          12.0          70   \n",
       "4  17.0          8         302.0      140.0    3449          10.5          70   \n",
       "\n",
       "   Origin  \n",
       "0       1  \n",
       "1       1  \n",
       "2       1  \n",
       "3       1  \n",
       "4       1  "
      ]
     },
     "execution_count": 2,
     "metadata": {},
     "output_type": "execute_result"
    }
   ],
   "source": [
    "# import data and drop unnecessary cols\n",
    "df = pd.read_csv(\"auto-mpg.csv\")\n",
    "df = df[df['Horsepower'] != \"?\"]\n",
    "del df['Name']\n",
    "df.head()"
   ]
  },
  {
   "cell_type": "code",
   "execution_count": 3,
   "metadata": {},
   "outputs": [],
   "source": [
    "# # one-hot endode decrete columns\n",
    "# cyl = df['Cylinders']\n",
    "# year = df['Model Year']\n",
    "# orig = df['Origin']\n",
    "# cyl_hot = pd.get_dummies(cyl, prefix='Cylinders')\n",
    "# year_hot = pd.get_dummies(year, prefix='Model_Year')\n",
    "# orig_hot = pd.get_dummies(orig, prefix='Origin')\n",
    "\n",
    "# df = pd.concat([df, cyl_hot, year_hot, orig_hot],axis=1)\n",
    "\n",
    "# df = df.drop(['Cylinders', 'Model Year', 'Origin'], axis=1)\n",
    "\n",
    "# df.head()"
   ]
  },
  {
   "cell_type": "code",
   "execution_count": 4,
   "metadata": {},
   "outputs": [
    {
     "name": "stdout",
     "output_type": "stream",
     "text": [
      "392 308 39 45\n"
     ]
    }
   ],
   "source": [
    "# divide dataset into train-val-test\n",
    "train = df.sample(n=308)\n",
    "\n",
    "rest_df = df[~df.index.isin(train.index)]\n",
    "\n",
    "val = rest_df.sample(n=45)\n",
    "test = rest_df[~rest_df.index.isin(val.index)]\n",
    "\n",
    "train = train.reset_index(drop=True).astype(float)\n",
    "val = val.reset_index(drop=True).astype(float)\n",
    "test = test.reset_index(drop=True).astype(float)\n",
    "\n",
    "print (len(df), len(train), len(test), len(val))"
   ]
  },
  {
   "cell_type": "markdown",
   "metadata": {},
   "source": [
    "# Part A: Linear Regression"
   ]
  },
  {
   "cell_type": "code",
   "execution_count": 5,
   "metadata": {
    "scrolled": true
   },
   "outputs": [
    {
     "name": "stdout",
     "output_type": "stream",
     "text": [
      "(308, 8) : shape of training data\n",
      "(308, 1) : shape of labels\n",
      "(8, 1) : shape of weights\n",
      "12.45 : Mean Squared Error\n"
     ]
    }
   ],
   "source": [
    "# concatenate column of 1's to first column in matrix\n",
    "ones_train = np.ones([len(train),1])\n",
    "ones_test = np.ones([len(test),1])\n",
    "train_x = np.concatenate((ones_train, train.iloc[:,1:]),axis=1).astype(float)\n",
    "test_x = np.concatenate((ones_test, test.iloc[:,1:]), axis=1).astype(float)\n",
    "print (train_x.shape, \": shape of training data\")\n",
    "train_y = np.array([train.iloc[:,0]]).T\n",
    "test_y = np.array([test.iloc[:,0]]).T\n",
    "print (train_y.shape, \": shape of labels\")\n",
    "\n",
    "# calculate weights using closed form solution\n",
    "w = np.linalg.inv(train_x.T@train_x)@(train_x.T@train_y)\n",
    "print (w.shape, \": shape of weights\")\n",
    "\n",
    "# calculate y_hats from weights\n",
    "y_hat = test_x@w\n",
    "\n",
    "# compute mean squared error\n",
    "mse = np.sum((test_y - y_hat)**2)/len(test_y)\n",
    "print (np.round(mse,2), \": Mean Squared Error\")"
   ]
  },
  {
   "cell_type": "markdown",
   "metadata": {},
   "source": [
    "# Part B: Linear Regression with Ridge Regression"
   ]
  },
  {
   "cell_type": "code",
   "execution_count": 6,
   "metadata": {
    "collapsed": true
   },
   "outputs": [],
   "source": [
    "def normalize(df):\n",
    "    \n",
    "    for ii in range(df.shape[1]):\n",
    "        df[:,ii] = (df[:,ii]-np.mean(df[:,ii]))/np.std(df[:,ii])\n",
    "    \n",
    "    return df"
   ]
  },
  {
   "cell_type": "code",
   "execution_count": 7,
   "metadata": {
    "collapsed": true
   },
   "outputs": [],
   "source": [
    "def ridge(x, y, lam):\n",
    "\n",
    "    lambIdent = lam*np.identity(len(x.T))\n",
    "    inver = np.linalg.inv((x.T@x) + lambIdent)\n",
    "    w = inver@x.T@y\n",
    "    \n",
    "    return w"
   ]
  },
  {
   "cell_type": "code",
   "execution_count": 8,
   "metadata": {},
   "outputs": [
    {
     "name": "stdout",
     "output_type": "stream",
     "text": [
      "(308, 7) : shape of training data\n",
      "(308, 1) : shape of training labels\n",
      "0.0001 : best lambda\n",
      "0.23 : Mean Squared Error\n"
     ]
    }
   ],
   "source": [
    "# normalize inputs and labels\n",
    "train_x = normalize(np.array(train.iloc[:,1:]))\n",
    "val_x = normalize(np.array(val.iloc[:,1:]))\n",
    "test_x = normalize(np.array(test.iloc[:,1:]))\n",
    "\n",
    "train_y = normalize(np.array([train.iloc[:,0]]).T)\n",
    "val_y = normalize(np.array([val.iloc[:,0]]).T)\n",
    "test_y = normalize(np.array([test.iloc[:,0]]).T)\n",
    "\n",
    "print (train_x.shape, \": shape of training data\")\n",
    "print (train_y.shape, \": shape of training labels\")\n",
    "\n",
    "lambs = [0.0001, 0.0004, 0.0007, 0.001, 0.004, 0.007, 0.01, 0.04, 0.07, 0.1, 0.5, 0.7]\n",
    "mses = []\n",
    "\n",
    "# iterate through lambdas to find minimum mse\n",
    "for lamb in lambs:\n",
    "    w = ridge(train_x, train_y, lamb)\n",
    "    y_hat = val_x@w\n",
    "    mse = np.sum((val_y - y_hat)**2)/len(val_y)\n",
    "    mses.append(mse)\n",
    "\n",
    "best_lamb = lambs[mses.index(min(mses))]\n",
    "print (best_lamb, \": best lambda\")\n",
    "\n",
    "# re-train the model with the best lambda\n",
    "w = ridge(train_x, train_y, best_lamb)\n",
    "y_hat = test_x@w\n",
    "\n",
    "# compute final mse\n",
    "mse = np.sum((test_y - y_hat)**2)/len(test_y)\n",
    "print (np.round(mse,2), \": Mean Squared Error\")"
   ]
  },
  {
   "cell_type": "markdown",
   "metadata": {},
   "source": [
    "# Part C: Linear Regression with Lasso Regression"
   ]
  },
  {
   "cell_type": "code",
   "execution_count": 9,
   "metadata": {},
   "outputs": [
    {
     "name": "stdout",
     "output_type": "stream",
     "text": [
      "(308, 7) : shape of training data\n",
      "(308, 1) : shape of training labels\n",
      "0.0001 : best lambda\n",
      "0.23 : Mean Squared Error\n"
     ]
    }
   ],
   "source": [
    "# normalize inputs and labels\n",
    "train_x = normalize(np.array(train.iloc[:,1:]))\n",
    "val_x = normalize(np.array(val.iloc[:,1:]))\n",
    "test_x = normalize(np.array(test.iloc[:,1:]))\n",
    "\n",
    "train_y = normalize(np.array([train.iloc[:,0]]).T)\n",
    "val_y = normalize(np.array([val.iloc[:,0]]).T)\n",
    "test_y = normalize(np.array([test.iloc[:,0]]).T)\n",
    "\n",
    "print (train_x.shape, \": shape of training data\")\n",
    "print (train_y.shape, \": shape of training labels\")\n",
    "\n",
    "lambs = [0.0001, 0.0004, 0.0007, 0.001, 0.004, 0.007, 0.01, 0.04, 0.07, 0.1, 0.5, 0.7]\n",
    "mses = []\n",
    "\n",
    "# iterate through lambdas to find minimum mse\n",
    "for lamb in lambs:\n",
    "    clf = linear_model.Lasso(alpha=lamb)\n",
    "    clf.fit(train_x, train_y)\n",
    "    y_hat = clf.predict(val_x)\n",
    "    mse = np.sum((val_y.flatten() - y_hat.flatten())**2)/len(val_y)\n",
    "    mses.append(mse)\n",
    "    \n",
    "best_lamb = lambs[mses.index(min(mses))]\n",
    "print (best_lamb, \": best lambda\")\n",
    "\n",
    "# re-train the model with the best lambda\n",
    "clf = linear_model.Lasso(alpha=best_lamb)\n",
    "clf.fit(train_x, train_y)\n",
    "y_hat = clf.predict(test_x)\n",
    "\n",
    "# compute final mse\n",
    "mse = np.sum((test_y.flatten() - y_hat.flatten())**2)/len(test_y)\n",
    "print (np.round(mse,2), \": Mean Squared Error\")"
   ]
  },
  {
   "cell_type": "code",
   "execution_count": 10,
   "metadata": {},
   "outputs": [
    {
     "data": {
      "image/png": "[encoded data removed]",
      "text/plain": [
       "<Figure size 1152x720 with 1 Axes>"
      ]
     },
     "metadata": {},
     "output_type": "display_data"
    }
   ],
   "source": [
    "# use lasso path to compute alphas and corresponding coefs\n",
    "alphas_lasso, coefs_lasso, _ = linear_model.lasso_path(train_x, train_y, eps=5e-6)\n",
    "\n",
    "# plotting stuff\n",
    "fig, ax = plt.subplots(figsize=[16,10])\n",
    "neg_log_alphas_lasso = -np.log10(alphas_lasso)\n",
    "for coef_l in coefs_lasso:\n",
    "    ax.plot(neg_log_alphas_lasso, coef_l.T)\n",
    "\n",
    "ax.axvline(x=-np.log10(best_lamb), linestyle=\"--\")\n",
    "plt.xlabel('-Log(alpha)')\n",
    "plt.ylabel('coefficients')\n",
    "plt.title('Lasso Paths')\n",
    "plt.axis('tight')\n",
    "plt.show()"
   ]
  },
  {
   "cell_type": "code",
   "execution_count": null,
   "metadata": {
    "collapsed": true
   },
   "outputs": [],
   "source": []
  }
 ],
 "metadata": {
  "kernelspec": {
   "display_name": "Python 3",
   "language": "python",
   "name": "python3"
  },
  "language_info": {
   "codemirror_mode": {
    "name": "ipython",
    "version": 3
   },
   "file_extension": ".py",
   "mimetype": "text/x-python",
   "name": "python",
   "nbconvert_exporter": "python",
   "pygments_lexer": "ipython3",
   "version": "3.6.1"
  }
 },
 "nbformat": 4,
 "nbformat_minor": 2
}
