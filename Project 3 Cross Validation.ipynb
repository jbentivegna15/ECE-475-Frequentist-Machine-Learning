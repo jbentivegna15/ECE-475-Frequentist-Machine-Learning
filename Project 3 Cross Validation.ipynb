{
 "cells": [
  {
   "cell_type": "code",
   "execution_count": 1,
   "metadata": {},
   "outputs": [],
   "source": [
    "import numpy as np\n",
    "from random import randint\n",
    "from sklearn.model_selection import KFold\n",
    "from sklearn.model_selection import RepeatedKFold\n",
    "from sklearn.neighbors import KNeighborsClassifier"
   ]
  },
  {
   "cell_type": "markdown",
   "metadata": {},
   "source": [
    "## Wrong Way"
   ]
  },
  {
   "cell_type": "code",
   "execution_count": 2,
   "metadata": {},
   "outputs": [
    {
     "name": "stdout",
     "output_type": "stream",
     "text": [
      "(50, 100) (50,)\n"
     ]
    }
   ],
   "source": [
    "X_label = [randint(0,1) for _ in range(50)]\n",
    "X_feat = np.random.normal(0, 1, (50, 5000))\n",
    "\n",
    "X_feat_cor = [np.corrcoef(X_label, x)[0,1] for x in X_feat.T]\n",
    "\n",
    "top_100 = np.argsort(X_feat_cor)[-100:]\n",
    "\n",
    "new_feats = np.array(X_feat.T)[top_100].T\n",
    "\n",
    "X_label = np.ravel(np.atleast_2d(X_label).T)\n",
    "\n",
    "print (new_feats.shape, X_label.shape)"
   ]
  },
  {
   "cell_type": "code",
   "execution_count": 3,
   "metadata": {},
   "outputs": [
    {
     "name": "stdout",
     "output_type": "stream",
     "text": [
      "Error each K-Fold: [0.  0.  0.  0.  0.2 0.  0.  0.  0.1 0.  0.  0.1 0.  0.1 0.  0.  0.2 0.1\n",
      " 0.  0.  0.2 0.  0.  0.  0.  0.  0.1 0.  0.  0.1 0.  0.  0.1 0.  0.  0.\n",
      " 0.  0.  0.1 0.1 0.1 0.  0.2 0.  0.  0.  0.  0.2 0.  0.  0.  0.  0.2 0.\n",
      " 0.  0.1 0.  0.1 0.  0.  0.1 0.1 0.  0.  0.  0.1 0.  0.  0.  0.1 0.1 0.\n",
      " 0.  0.  0.2 0.  0.  0.  0.1 0.  0.  0.  0.  0.  0.2 0.  0.  0.  0.2 0.\n",
      " 0.  0.  0.1 0.1 0.  0.  0.  0.  0.1 0.1 0.  0.  0.1 0.  0.1 0.  0.1 0.1\n",
      " 0.  0.  0.1 0.1 0.  0.  0.  0.  0.  0.1 0.  0.  0.1 0.  0.  0.  0.1 0.\n",
      " 0.  0.1 0.1 0.  0.1 0.1 0.  0.  0.  0.  0.1 0.  0.  0.2 0.  0.  0.1 0.\n",
      " 0.1 0.1 0.1 0.  0.  0.  0.  0.1 0.  0.  0.1 0.1 0.  0.  0.1 0.  0.  0.\n",
      " 0.  0.1 0.1 0.  0.1 0.  0.1 0.  0.  0.  0.  0.  0.2 0.1 0.1 0.  0.  0.\n",
      " 0.  0.1 0.  0.  0.1 0.  0.  0.1 0.  0.1 0.1 0.1 0.  0.  0.1 0.  0.  0.\n",
      " 0.  0.1 0.  0.1 0.  0.  0.1 0.  0.1 0.  0.  0.1 0.  0.1 0.  0.  0.  0.\n",
      " 0.  0.  0.2 0.  0.  0.1 0.  0.  0.1 0.2 0.  0.  0.  0.  0.1 0.1 0.  0.\n",
      " 0.  0.  0.  0.1 0.1 0.  0.  0.1 0.1 0.  0.  0.  0.1 0.  0.2 0. ]\n",
      "Average Error: 0.04\n"
     ]
    }
   ],
   "source": [
    "clf = KNeighborsClassifier(n_neighbors=1)\n",
    "err = []\n",
    "\n",
    "kf = RepeatedKFold(n_splits=5, n_repeats=50)\n",
    "for train_index, test_index in kf.split(new_feats):\n",
    "    X_train, X_test = new_feats[train_index], new_feats[test_index]\n",
    "    y_train, y_test = X_label[train_index], X_label[test_index]\n",
    "    clf.fit(X_train, y_train)\n",
    "    err.append(1-clf.score(X_test, y_test))\n",
    "    \n",
    "print (\"Error each K-Fold:\", np.around(np.array(err),3))\n",
    "print (\"Average Error:\", round(sum(err)/250,3))"
   ]
  },
  {
   "cell_type": "markdown",
   "metadata": {},
   "source": [
    "## Right Way"
   ]
  },
  {
   "cell_type": "code",
   "execution_count": 4,
   "metadata": {},
   "outputs": [
    {
     "name": "stdout",
     "output_type": "stream",
     "text": [
      "(50, 5000) (50,)\n"
     ]
    }
   ],
   "source": [
    "X_label = [randint(0,1) for _ in range(50)]\n",
    "X_feat = np.random.normal(0, 1, (50, 5000))\n",
    "\n",
    "X_label = np.ravel(np.atleast_2d(X_label).T)\n",
    "\n",
    "print (X_feat.shape, X_label.shape)"
   ]
  },
  {
   "cell_type": "code",
   "execution_count": 5,
   "metadata": {},
   "outputs": [
    {
     "name": "stdout",
     "output_type": "stream",
     "text": [
      "Error each K-Fold: [0.2 0.4 0.4 0.5 0.7 0.4 0.5 0.5 0.5 0.5 0.2 0.4 0.6 0.4 0.3 0.4 0.6 0.3\n",
      " 0.5 0.6 0.6 0.3 0.9 0.5 0.4 0.6 0.3 0.5 0.5 0.2 0.6 0.4 0.6 0.5 0.5 0.5\n",
      " 0.5 0.4 0.5 0.7 0.4 0.2 0.7 0.4 0.7 0.6 0.6 0.4 0.6 0. ]\n",
      "Average Error: 0.47\n"
     ]
    }
   ],
   "source": [
    "clf = KNeighborsClassifier(n_neighbors=1)\n",
    "err = []\n",
    "\n",
    "kf = RepeatedKFold(n_splits=5, n_repeats=10)\n",
    "for train_index, test_index in kf.split(X_feat):\n",
    "    X_train, X_test = X_feat[train_index], X_feat[test_index]\n",
    "    y_train, y_test = X_label[train_index], X_label[test_index]\n",
    "\n",
    "    X_feat_cor = [np.corrcoef(y_train, x)[0,1] for x in X_train.T]\n",
    "\n",
    "    top_100 = np.argsort(X_feat_cor)[-100:]\n",
    "\n",
    "    new_feats_train = np.array(X_train.T)[top_100].T\n",
    "    new_feats_test = np.array(X_test.T)[top_100].T\n",
    "\n",
    "    clf.fit(new_feats_train, y_train)\n",
    "    err.append(1-clf.score(new_feats_test, y_test))\n",
    "\n",
    "print (\"Error each K-Fold:\", np.around(np.array(err),3))\n",
    "print (\"Average Error:\", round(sum(err)/50,3))"
   ]
  },
  {
   "cell_type": "code",
   "execution_count": null,
   "metadata": {
    "collapsed": true
   },
   "outputs": [],
   "source": []
  }
 ],
 "metadata": {
  "kernelspec": {
   "display_name": "Python 3",
   "language": "python",
   "name": "python3"
  },
  "language_info": {
   "codemirror_mode": {
    "name": "ipython",
    "version": 3
   },
   "file_extension": ".py",
   "mimetype": "text/x-python",
   "name": "python",
   "nbconvert_exporter": "python",
   "pygments_lexer": "ipython3",
   "version": "3.6.1"
  }
 },
 "nbformat": 4,
 "nbformat_minor": 2
}
