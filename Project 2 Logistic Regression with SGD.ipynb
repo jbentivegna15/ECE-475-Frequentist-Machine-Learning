{
 "cells": [
  {
   "cell_type": "code",
   "execution_count": 1,
   "metadata": {},
   "outputs": [],
   "source": [
    "# import libraries\n",
    "import pandas as pd\n",
    "import numpy as np\n",
    "import matplotlib.pyplot as plt\n",
    "from sklearn.model_selection import train_test_split\n",
    "from sklearn.linear_model import LogisticRegression"
   ]
  },
  {
   "cell_type": "code",
   "execution_count": 2,
   "metadata": {},
   "outputs": [
    {
     "data": {
      "text/html": [
       "<div>\n",
       "<style>\n",
       "    .dataframe thead tr:only-child th {\n",
       "        text-align: right;\n",
       "    }\n",
       "\n",
       "    .dataframe thead th {\n",
       "        text-align: left;\n",
       "    }\n",
       "\n",
       "    .dataframe tbody tr th {\n",
       "        vertical-align: top;\n",
       "    }\n",
       "</style>\n",
       "<table border=\"1\" class=\"dataframe\">\n",
       "  <thead>\n",
       "    <tr style=\"text-align: right;\">\n",
       "      <th></th>\n",
       "      <th>PassengerId</th>\n",
       "      <th>Survived</th>\n",
       "      <th>Pclass</th>\n",
       "      <th>Name</th>\n",
       "      <th>Sex</th>\n",
       "      <th>Age</th>\n",
       "      <th>SibSp</th>\n",
       "      <th>Parch</th>\n",
       "      <th>Ticket</th>\n",
       "      <th>Fare</th>\n",
       "      <th>Cabin</th>\n",
       "      <th>Embarked</th>\n",
       "    </tr>\n",
       "  </thead>\n",
       "  <tbody>\n",
       "    <tr>\n",
       "      <th>0</th>\n",
       "      <td>1</td>\n",
       "      <td>0</td>\n",
       "      <td>3</td>\n",
       "      <td>Braund, Mr. Owen Harris</td>\n",
       "      <td>male</td>\n",
       "      <td>22.0</td>\n",
       "      <td>1</td>\n",
       "      <td>0</td>\n",
       "      <td>A/5 21171</td>\n",
       "      <td>7.2500</td>\n",
       "      <td>NaN</td>\n",
       "      <td>S</td>\n",
       "    </tr>\n",
       "    <tr>\n",
       "      <th>1</th>\n",
       "      <td>2</td>\n",
       "      <td>1</td>\n",
       "      <td>1</td>\n",
       "      <td>Cumings, Mrs. John Bradley (Florence Briggs Th...</td>\n",
       "      <td>female</td>\n",
       "      <td>38.0</td>\n",
       "      <td>1</td>\n",
       "      <td>0</td>\n",
       "      <td>PC 17599</td>\n",
       "      <td>71.2833</td>\n",
       "      <td>C85</td>\n",
       "      <td>C</td>\n",
       "    </tr>\n",
       "    <tr>\n",
       "      <th>2</th>\n",
       "      <td>3</td>\n",
       "      <td>1</td>\n",
       "      <td>3</td>\n",
       "      <td>Heikkinen, Miss. Laina</td>\n",
       "      <td>female</td>\n",
       "      <td>26.0</td>\n",
       "      <td>0</td>\n",
       "      <td>0</td>\n",
       "      <td>STON/O2. 3101282</td>\n",
       "      <td>7.9250</td>\n",
       "      <td>NaN</td>\n",
       "      <td>S</td>\n",
       "    </tr>\n",
       "    <tr>\n",
       "      <th>3</th>\n",
       "      <td>4</td>\n",
       "      <td>1</td>\n",
       "      <td>1</td>\n",
       "      <td>Futrelle, Mrs. Jacques Heath (Lily May Peel)</td>\n",
       "      <td>female</td>\n",
       "      <td>35.0</td>\n",
       "      <td>1</td>\n",
       "      <td>0</td>\n",
       "      <td>113803</td>\n",
       "      <td>53.1000</td>\n",
       "      <td>C123</td>\n",
       "      <td>S</td>\n",
       "    </tr>\n",
       "    <tr>\n",
       "      <th>4</th>\n",
       "      <td>5</td>\n",
       "      <td>0</td>\n",
       "      <td>3</td>\n",
       "      <td>Allen, Mr. William Henry</td>\n",
       "      <td>male</td>\n",
       "      <td>35.0</td>\n",
       "      <td>0</td>\n",
       "      <td>0</td>\n",
       "      <td>373450</td>\n",
       "      <td>8.0500</td>\n",
       "      <td>NaN</td>\n",
       "      <td>S</td>\n",
       "    </tr>\n",
       "  </tbody>\n",
       "</table>\n",
       "</div>"
      ],
      "text/plain": [
       "   PassengerId  Survived  Pclass  \\\n",
       "0            1         0       3   \n",
       "1            2         1       1   \n",
       "2            3         1       3   \n",
       "3            4         1       1   \n",
       "4            5         0       3   \n",
       "\n",
       "                                                Name     Sex   Age  SibSp  \\\n",
       "0                            Braund, Mr. Owen Harris    male  22.0      1   \n",
       "1  Cumings, Mrs. John Bradley (Florence Briggs Th...  female  38.0      1   \n",
       "2                             Heikkinen, Miss. Laina  female  26.0      0   \n",
       "3       Futrelle, Mrs. Jacques Heath (Lily May Peel)  female  35.0      1   \n",
       "4                           Allen, Mr. William Henry    male  35.0      0   \n",
       "\n",
       "   Parch            Ticket     Fare Cabin Embarked  \n",
       "0      0         A/5 21171   7.2500   NaN        S  \n",
       "1      0          PC 17599  71.2833   C85        C  \n",
       "2      0  STON/O2. 3101282   7.9250   NaN        S  \n",
       "3      0            113803  53.1000  C123        S  \n",
       "4      0            373450   8.0500   NaN        S  "
      ]
     },
     "execution_count": 2,
     "metadata": {},
     "output_type": "execute_result"
    }
   ],
   "source": [
    "# import data\n",
    "data = pd.read_csv(\"Titanic Dataset\\\\train.csv\")\n",
    "data.head()"
   ]
  },
  {
   "cell_type": "code",
   "execution_count": 3,
   "metadata": {
    "collapsed": true
   },
   "outputs": [],
   "source": [
    "# delete unnecessary columns\n",
    "del data['PassengerId']\n",
    "del data['Name']\n",
    "del data['Ticket']\n",
    "del data['Cabin']\n",
    "\n",
    "# drop null values\n",
    "data = data.dropna(subset=['Age'])"
   ]
  },
  {
   "cell_type": "code",
   "execution_count": 4,
   "metadata": {},
   "outputs": [
    {
     "data": {
      "text/html": [
       "<div>\n",
       "<style>\n",
       "    .dataframe thead tr:only-child th {\n",
       "        text-align: right;\n",
       "    }\n",
       "\n",
       "    .dataframe thead th {\n",
       "        text-align: left;\n",
       "    }\n",
       "\n",
       "    .dataframe tbody tr th {\n",
       "        vertical-align: top;\n",
       "    }\n",
       "</style>\n",
       "<table border=\"1\" class=\"dataframe\">\n",
       "  <thead>\n",
       "    <tr style=\"text-align: right;\">\n",
       "      <th></th>\n",
       "      <th>Survived</th>\n",
       "      <th>Age</th>\n",
       "      <th>SibSp</th>\n",
       "      <th>Parch</th>\n",
       "      <th>Fare</th>\n",
       "      <th>sex_female</th>\n",
       "      <th>sex_male</th>\n",
       "      <th>class_1</th>\n",
       "      <th>class_2</th>\n",
       "      <th>class_3</th>\n",
       "      <th>embarked_C</th>\n",
       "      <th>embarked_Q</th>\n",
       "      <th>embarked_S</th>\n",
       "    </tr>\n",
       "  </thead>\n",
       "  <tbody>\n",
       "    <tr>\n",
       "      <th>0</th>\n",
       "      <td>0</td>\n",
       "      <td>22.0</td>\n",
       "      <td>1</td>\n",
       "      <td>0</td>\n",
       "      <td>7.2500</td>\n",
       "      <td>0</td>\n",
       "      <td>1</td>\n",
       "      <td>0</td>\n",
       "      <td>0</td>\n",
       "      <td>1</td>\n",
       "      <td>0</td>\n",
       "      <td>0</td>\n",
       "      <td>1</td>\n",
       "    </tr>\n",
       "    <tr>\n",
       "      <th>1</th>\n",
       "      <td>1</td>\n",
       "      <td>38.0</td>\n",
       "      <td>1</td>\n",
       "      <td>0</td>\n",
       "      <td>71.2833</td>\n",
       "      <td>1</td>\n",
       "      <td>0</td>\n",
       "      <td>1</td>\n",
       "      <td>0</td>\n",
       "      <td>0</td>\n",
       "      <td>1</td>\n",
       "      <td>0</td>\n",
       "      <td>0</td>\n",
       "    </tr>\n",
       "    <tr>\n",
       "      <th>2</th>\n",
       "      <td>1</td>\n",
       "      <td>26.0</td>\n",
       "      <td>0</td>\n",
       "      <td>0</td>\n",
       "      <td>7.9250</td>\n",
       "      <td>1</td>\n",
       "      <td>0</td>\n",
       "      <td>0</td>\n",
       "      <td>0</td>\n",
       "      <td>1</td>\n",
       "      <td>0</td>\n",
       "      <td>0</td>\n",
       "      <td>1</td>\n",
       "    </tr>\n",
       "    <tr>\n",
       "      <th>3</th>\n",
       "      <td>1</td>\n",
       "      <td>35.0</td>\n",
       "      <td>1</td>\n",
       "      <td>0</td>\n",
       "      <td>53.1000</td>\n",
       "      <td>1</td>\n",
       "      <td>0</td>\n",
       "      <td>1</td>\n",
       "      <td>0</td>\n",
       "      <td>0</td>\n",
       "      <td>0</td>\n",
       "      <td>0</td>\n",
       "      <td>1</td>\n",
       "    </tr>\n",
       "    <tr>\n",
       "      <th>4</th>\n",
       "      <td>0</td>\n",
       "      <td>35.0</td>\n",
       "      <td>0</td>\n",
       "      <td>0</td>\n",
       "      <td>8.0500</td>\n",
       "      <td>0</td>\n",
       "      <td>1</td>\n",
       "      <td>0</td>\n",
       "      <td>0</td>\n",
       "      <td>1</td>\n",
       "      <td>0</td>\n",
       "      <td>0</td>\n",
       "      <td>1</td>\n",
       "    </tr>\n",
       "  </tbody>\n",
       "</table>\n",
       "</div>"
      ],
      "text/plain": [
       "   Survived   Age  SibSp  Parch     Fare  sex_female  sex_male  class_1  \\\n",
       "0         0  22.0      1      0   7.2500           0         1        0   \n",
       "1         1  38.0      1      0  71.2833           1         0        1   \n",
       "2         1  26.0      0      0   7.9250           1         0        0   \n",
       "3         1  35.0      1      0  53.1000           1         0        1   \n",
       "4         0  35.0      0      0   8.0500           0         1        0   \n",
       "\n",
       "   class_2  class_3  embarked_C  embarked_Q  embarked_S  \n",
       "0        0        1           0           0           1  \n",
       "1        0        0           1           0           0  \n",
       "2        0        1           0           0           1  \n",
       "3        0        0           0           0           1  \n",
       "4        0        1           0           0           1  "
      ]
     },
     "execution_count": 4,
     "metadata": {},
     "output_type": "execute_result"
    }
   ],
   "source": [
    "# one-hot endode decrete columns\n",
    "sex = data['Sex']\n",
    "pclass = data['Pclass']\n",
    "embark = data['Embarked']\n",
    "sex_hot = pd.get_dummies(sex, prefix='sex')\n",
    "pclass_hot = pd.get_dummies(pclass, prefix='class')\n",
    "embark_hot = pd.get_dummies(embark, prefix='embarked')\n",
    "\n",
    "data = pd.concat([data, sex_hot, pclass_hot, embark_hot],axis=1)\n",
    "\n",
    "data = data.drop(['Sex', 'Pclass', 'Embarked'], axis=1)\n",
    "\n",
    "data.head()"
   ]
  },
  {
   "cell_type": "code",
   "execution_count": 5,
   "metadata": {},
   "outputs": [
    {
     "name": "stdout",
     "output_type": "stream",
     "text": [
      "(414, 13) (150, 13) (150, 13)\n"
     ]
    }
   ],
   "source": [
    "feats = data.iloc[:,1:]\n",
    "labels = data.iloc[:,0]\n",
    "\n",
    "# normalize\n",
    "feats = (feats-feats.mean())/feats.std()\n",
    "\n",
    "# add bias term\n",
    "feats['intercept'] = 1\n",
    "cols = feats.columns.tolist()\n",
    "cols = cols[-1:] + cols[:-1]\n",
    "feats = feats[cols]\n",
    "\n",
    "# split into train/val/test\n",
    "x_train, x_val, y_train, y_val = train_test_split(feats, labels, test_size=150)\n",
    "x_train, x_test, y_train, y_test = train_test_split(x_train, y_train, test_size=150)\n",
    "\n",
    "print (x_train.shape, x_val.shape, x_test.shape)"
   ]
  },
  {
   "cell_type": "code",
   "execution_count": 6,
   "metadata": {
    "collapsed": true
   },
   "outputs": [],
   "source": [
    "# predition function that returns probabilities\n",
    "def predict_prob(x, w):\n",
    "    z = x @ w.T\n",
    "    return 1/(1 + np.exp(-z))"
   ]
  },
  {
   "cell_type": "code",
   "execution_count": 7,
   "metadata": {
    "collapsed": true
   },
   "outputs": [],
   "source": [
    "# prediction function that returns predictions (0 or 1)\n",
    "def predict(x, w, thresh=0.5):\n",
    "    return predict_prob(x, w) >= thresh"
   ]
  },
  {
   "cell_type": "code",
   "execution_count": 8,
   "metadata": {
    "collapsed": true
   },
   "outputs": [],
   "source": [
    "# SGD function that returns computed coefficients\n",
    "def SGD(x, y, rate, lam, epoch):\n",
    "    \n",
    "    # initialize weight vector\n",
    "    w = np.atleast_2d(np.ones(x_train.shape[1]))\n",
    "    likes = []\n",
    "    \n",
    "    # iterate num epochs\n",
    "    for ii in range(epoch):\n",
    "        yhat = predict_prob(x, w)\n",
    "        likelihood = (y*np.log(yhat.flatten()) - (1-np.array(y))*np.log(1-yhat.flatten())).mean()\n",
    "        likes.append(likelihood)\n",
    "        grad = ((yhat.T - y) @ x)/len(y) - lam*w\n",
    "        w = w - rate*grad\n",
    "        \n",
    "    return w, likes"
   ]
  },
  {
   "cell_type": "code",
   "execution_count": 9,
   "metadata": {
    "collapsed": true
   },
   "outputs": [],
   "source": [
    "# logistic regression function to train and test the model\n",
    "def log_reg(x_train, y_train, x_test, y_test, rate, epoch, l2=False):\n",
    "    \n",
    "    if l2:\n",
    "        lam = 0.01\n",
    "    else:\n",
    "        lam = 0\n",
    "        \n",
    "    coef, likes = SGD(x_train, y_train, rate, lam, epoch)  \n",
    "    yhat = predict(x_test, coef)\n",
    "    acc = (yhat.flatten() == y_test).mean()\n",
    "    \n",
    "    return acc, likes"
   ]
  },
  {
   "cell_type": "code",
   "execution_count": 10,
   "metadata": {},
   "outputs": [
    {
     "name": "stdout",
     "output_type": "stream",
     "text": [
      "0.6 with learning rate 0.0001\n",
      "0.62 with learning rate 0.001\n",
      "0.7 with learning rate 0.01\n",
      "0.8 with learning rate 0.1\n",
      "0.79 with learning rate 0.5\n",
      "0.79 with learning rate 0.75\n",
      "----------------\n",
      "test accuracy:  80.6667\n",
      "----------------\n",
      "test accuracy with l2:  80.0\n"
     ]
    }
   ],
   "source": [
    "rate = [0.0001, 0.001, 0.01, 0.1, 0.5, 0.75]\n",
    "epoch = 300\n",
    "acc_list = []\n",
    "\n",
    "for ii in range(len(rate)):\n",
    "    acc, _ = log_reg(x_train, y_train.tolist(), x_val, y_val, rate[ii], epoch)\n",
    "    print (round(acc,2), \"with learning rate\", rate[ii])\n",
    "    acc_list.append(acc)\n",
    "\n",
    "best_rate = acc_list.index(max(acc_list))\n",
    "acc, likes1 = log_reg(x_train, y_train.tolist(), x_test, y_test, rate[best_rate], epoch)\n",
    "print (\"----------------\")\n",
    "print (\"test accuracy: \", round(acc*100,4))\n",
    "\n",
    "acc, likes2 = log_reg(x_train, y_train.tolist(), x_test, y_test, rate[best_rate], epoch, l2=True)\n",
    "print (\"----------------\")\n",
    "print (\"test accuracy with l2: \", round(acc*100,4))"
   ]
  },
  {
   "cell_type": "code",
   "execution_count": 11,
   "metadata": {},
   "outputs": [
    {
     "name": "stdout",
     "output_type": "stream",
     "text": [
      "test accuracy from sklearn (with l2):  80.67\n"
     ]
    }
   ],
   "source": [
    "clf = LogisticRegression()\n",
    "clf.fit(x_train, y_train)\n",
    "acc = round(clf.score(x_test, y_test)*100,2)\n",
    "print (\"test accuracy from sklearn (with l2): \", acc)"
   ]
  },
  {
   "cell_type": "code",
   "execution_count": 12,
   "metadata": {},
   "outputs": [
    {
     "data": {
      "image/png": "[encoded data removed]",
      "text/plain": [
       "<Figure size 1152x720 with 1 Axes>"
      ]
     },
     "metadata": {},
     "output_type": "display_data"
    }
   ],
   "source": [
    "x = np.linspace(0,epoch,epoch)\n",
    "\n",
    "fig, ax = plt.subplots(figsize=[16,10])\n",
    "ax.plot(x, likes1, label='Log Reg')\n",
    "ax.plot(x, likes2, label='Log Reg with L2')\n",
    "\n",
    "plt.xlabel('epochs')\n",
    "plt.ylabel('likelihood')\n",
    "plt.title('Likelihood over time for Logistic Regression')\n",
    "plt.legend()\n",
    "plt.show()"
   ]
  },
  {
   "cell_type": "code",
   "execution_count": null,
   "metadata": {
    "collapsed": true
   },
   "outputs": [],
   "source": []
  }
 ],
 "metadata": {
  "kernelspec": {
   "display_name": "Python 3",
   "language": "python",
   "name": "python3"
  },
  "language_info": {
   "codemirror_mode": {
    "name": "ipython",
    "version": 3
   },
   "file_extension": ".py",
   "mimetype": "text/x-python",
   "name": "python",
   "nbconvert_exporter": "python",
   "pygments_lexer": "ipython3",
   "version": "3.6.1"
  }
 },
 "nbformat": 4,
 "nbformat_minor": 2
}
